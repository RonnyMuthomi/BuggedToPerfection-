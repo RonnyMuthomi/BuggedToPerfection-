{
 "cells": [
  {
   "cell_type": "code",
   "execution_count": 4,
   "id": "deabc596",
   "metadata": {},
   "outputs": [],
   "source": [
    "import pandas as pd\n",
    "import numpy as np\n",
    "from sklearn.model_selection import train_test_split\n",
    "from sklearn.linear_model import LinearRegression\n",
    "from sklearn.metrics import mean_squared_error, r2_score\n",
    "\n",
    "\n",
    "#load the data\n",
    "\n",
    "data ={\n",
    "    'size(sq ft)':[1500, 2000, 1200, 1800, 2500],\n",
    "    'Bedroom':[2, 3, 2, 4,3],\n",
    "    'Age(years)':[10, 5, 20, 7, 3],\n",
    "    'price($)':[300000, 400000, 250000, 350000, 500000]\n",
    "}\n",
    "df =pd.DataFrame(data)\n",
    "#print(df.to_string)"
   ]
  },
  {
   "cell_type": "code",
   "execution_count": 6,
   "id": "3741f180",
   "metadata": {},
   "outputs": [
    {
     "name": "stdout",
     "output_type": "stream",
     "text": [
      "Predictions: [395255.47445255]\n",
      "Actual values: [400000]\n",
      "Mean Squared Error: 22510522.6703632\n",
      "R-squared: nan\n"
     ]
    },
    {
     "name": "stderr",
     "output_type": "stream",
     "text": [
      "C:\\ProgramData\\anaconda3\\Lib\\site-packages\\sklearn\\metrics\\_regression.py:996: UndefinedMetricWarning: R^2 score is not well-defined with less than two samples.\n",
      "  warnings.warn(msg, UndefinedMetricWarning)\n"
     ]
    }
   ],
   "source": [
    "#preaparing data for independent variables & dependent\n",
    "x = df[['size(sq ft)', 'Bedroom', 'Age(years)']]\n",
    "y = df['price($)']\n",
    "\n",
    "#split the data into training & test\n",
    "x_train,x_test, y_train, y_test = train_test_split(x,y, test_size=0.2, random_state=42)\n",
    "\n",
    "#Train the model\n",
    "model =LinearRegression()\n",
    "model.fit(x_train, y_train)\n",
    "\n",
    "#make prediction\n",
    "y_pred =model.predict(x_test)\n",
    "\n",
    "#Evaluate model\n",
    "mse = mean_squared_error(y_test, y_pred)\n",
    "r2 = r2_score(y_test, y_pred)\n",
    "\n",
    "print(\"Predictions:\", y_pred)\n",
    "print(\"Actual values:\", y_test.values)\n",
    "print(\"Mean Squared Error:\", mse)\n",
    "print(\"R-squared:\", r2)"
   ]
  },
  {
   "cell_type": "code",
   "execution_count": null,
   "id": "560e7c56",
   "metadata": {},
   "outputs": [],
   "source": []
  }
 ],
 "metadata": {
  "kernelspec": {
   "display_name": "Python 3 (ipykernel)",
   "language": "python",
   "name": "python3"
  },
  "language_info": {
   "codemirror_mode": {
    "name": "ipython",
    "version": 3
   },
   "file_extension": ".py",
   "mimetype": "text/x-python",
   "name": "python",
   "nbconvert_exporter": "python",
   "pygments_lexer": "ipython3",
   "version": "3.11.5"
  }
 },
 "nbformat": 4,
 "nbformat_minor": 5
}
