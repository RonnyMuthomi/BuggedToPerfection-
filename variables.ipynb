{
 "cells": [
  {
   "cell_type": "code",
   "execution_count": 3,
   "id": "2d1263c2",
   "metadata": {},
   "outputs": [
    {
     "name": "stdout",
     "output_type": "stream",
     "text": [
      "I am seabork, a computer program.I assist visualy impared people to get directions on there daily life, to avoid accidents.I am commited to ensuring people with visual disability live a normal life.Tap the button below to rate me.\n"
     ]
    }
   ],
   "source": [
    "var = \"I am seabork, a computer program.\"\n",
    "var2 =\"I assist visualy impared people to get directions on there daily life, to avoid accidents.\"\n",
    "var3 = \"I am commited to ensuring people with visual disability live a normal life.\"\n",
    "var4 = \"Tap the button below to rate me.\"\n",
    "print(var+var2+var3+var4)"
   ]
  },
  {
   "cell_type": "code",
   "execution_count": 1,
   "id": "1538f51d",
   "metadata": {},
   "outputs": [
    {
     "ename": "NameError",
     "evalue": "name 'var' is not defined",
     "output_type": "error",
     "traceback": [
      "\u001b[1;31m---------------------------------------------------------------------------\u001b[0m",
      "\u001b[1;31mNameError\u001b[0m                                 Traceback (most recent call last)",
      "Cell \u001b[1;32mIn[1], line 1\u001b[0m\n\u001b[1;32m----> 1\u001b[0m \u001b[38;5;28mprint\u001b[39m(var, var2, var3, var4)\n",
      "\u001b[1;31mNameError\u001b[0m: name 'var' is not defined"
     ]
    }
   ],
   "source": [
    "print(var, var2, var3, var4)"
   ]
  },
  {
   "cell_type": "code",
   "execution_count": null,
   "id": "3fa38679",
   "metadata": {},
   "outputs": [],
   "source": []
  }
 ],
 "metadata": {
  "kernelspec": {
   "display_name": "Python 3 (ipykernel)",
   "language": "python",
   "name": "python3"
  },
  "language_info": {
   "codemirror_mode": {
    "name": "ipython",
    "version": 3
   },
   "file_extension": ".py",
   "mimetype": "text/x-python",
   "name": "python",
   "nbconvert_exporter": "python",
   "pygments_lexer": "ipython3",
   "version": "3.11.5"
  }
 },
 "nbformat": 4,
 "nbformat_minor": 5
}
