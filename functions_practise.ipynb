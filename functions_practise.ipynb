{
 "cells": [
  {
   "cell_type": "code",
   "execution_count": 12,
   "id": "4a90c43d",
   "metadata": {},
   "outputs": [
    {
     "name": "stdout",
     "output_type": "stream",
     "text": [
      "Enter numbers separated by comma\n",
      "1 22 4 6\n",
      "32\n"
     ]
    }
   ],
   "source": [
    "def sum_even_numbers(number):\n",
    "    total =0\n",
    "    \n",
    "    for x in number:\n",
    "        if x %2 ==0:\n",
    "            total +=x\n",
    "            \n",
    "    return total\n",
    "\n",
    "print(\"Enter numbers separated by comma\")\n",
    "user_input = input()\n",
    "\n",
    "\n",
    "input_user = list(map(int, user_input.split()))\n",
    "\n",
    "fibonacci =sum_even_numbers(input_user)\n",
    "\n",
    "print(fibonacci)"
   ]
  },
  {
   "cell_type": "code",
   "execution_count": 18,
   "id": "c0669590",
   "metadata": {},
   "outputs": [
    {
     "name": "stdout",
     "output_type": "stream",
     "text": [
      "Enter a number:\n",
      "1\n",
      "1 x 1 = 1\n",
      "1 x 2 = 2\n",
      "1 x 3 = 3\n",
      "1 x 4 = 4\n",
      "1 x 5 = 5\n",
      "1 x 6 = 6\n",
      "1 x 7 = 7\n",
      "1 x 8 = 8\n",
      "1 x 9 = 9\n",
      "1 x 10 = 10\n"
     ]
    }
   ],
   "source": [
    "def multiplication_table(num):\n",
    "    # Generate multiplication table for the given number\n",
    "    for i in range(1, 11):  # Loop from 1 to 10\n",
    "        print(f\"{num} x {i} = {num * i}\")\n",
    "\n",
    "# Input: Get a number from the user\n",
    "print(\"Enter a number:\")\n",
    "user_input = input()\n",
    "\n",
    "# Convert the input to an integer\n",
    "try:\n",
    "    num = int(user_input)\n",
    "    # Call the function to print the multiplication table\n",
    "    multiplication_table(num)\n",
    "except ValueError:\n",
    "    print(\"Invalid input! Please enter a valid number.\")"
   ]
  },
  {
   "cell_type": "code",
   "execution_count": 21,
   "id": "d838a618",
   "metadata": {},
   "outputs": [
    {
     "name": "stdout",
     "output_type": "stream",
     "text": [
      "Enter a string:\n",
      "Dog\n",
      "Indexes of capital letters: [0]\n"
     ]
    }
   ],
   "source": [
    "def capital_indexes(s):\n",
    "    # Initialize an empty list to store the indexes of capital letters\n",
    "    indexes = []\n",
    "    \n",
    "    # Loop through each character in the string along with its index\n",
    "    for index, char in enumerate(s):\n",
    "        # Check if the character is a capital letter\n",
    "        if char.isupper():\n",
    "            # If it is, add its index to the list\n",
    "            indexes.append(index)\n",
    "    \n",
    "    # Return the list of indexes\n",
    "    return indexes\n",
    "\n",
    "# Input: Get a string from the user\n",
    "print(\"Enter a string:\")\n",
    "user_input = input()\n",
    "\n",
    "# Call the function and print the result\n",
    "result = capital_indexes(user_input)\n",
    "print(\"Indexes of capital letters:\", result)"
   ]
  },
  {
   "cell_type": "code",
   "execution_count": null,
   "id": "8f70b6f6",
   "metadata": {},
   "outputs": [],
   "source": []
  }
 ],
 "metadata": {
  "kernelspec": {
   "display_name": "Python 3 (ipykernel)",
   "language": "python",
   "name": "python3"
  },
  "language_info": {
   "codemirror_mode": {
    "name": "ipython",
    "version": 3
   },
   "file_extension": ".py",
   "mimetype": "text/x-python",
   "name": "python",
   "nbconvert_exporter": "python",
   "pygments_lexer": "ipython3",
   "version": "3.11.5"
  }
 },
 "nbformat": 4,
 "nbformat_minor": 5
}
