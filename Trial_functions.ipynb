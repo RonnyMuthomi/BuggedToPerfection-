{
 "cells": [
  {
   "cell_type": "code",
   "execution_count": 10,
   "id": "fb09d80a",
   "metadata": {},
   "outputs": [
    {
     "name": "stdout",
     "output_type": "stream",
     "text": [
      "Enter the year number\n",
      "2024\n",
      "True\n"
     ]
    }
   ],
   "source": [
    "def leap_year_checker(year):\n",
    "    \n",
    "    year =int(year)\n",
    "    if(year %4 ==0 and year % 100 !=0) or (year % 400==0):\n",
    "        return True\n",
    "    else:\n",
    "        return False\n",
    "    \n",
    "print('Enter the year number')\n",
    "leap_year= input()\n",
    "\n",
    "year_cheacker = leap_year_checker(leap_year)\n",
    "print(year_cheacker)"
   ]
  },
  {
   "cell_type": "code",
   "execution_count": 14,
   "id": "a90387a4",
   "metadata": {},
   "outputs": [
    {
     "name": "stdout",
     "output_type": "stream",
     "text": [
      "Enter num one\n",
      "5\n",
      "Enter num two\n",
      "3\n",
      "Enter num three\n",
      "1\n",
      "1\n"
     ]
    }
   ],
   "source": [
    "def three_picker(num_one, num_two, num_three):\n",
    "    if(num_one < num_two) and (num_one < num_three):\n",
    "        return num_one\n",
    "    elif(num_two < num_one) and (num_two < num_three):\n",
    "        return num_two\n",
    "    \n",
    "    else:\n",
    "        return num_three\n",
    "    \n",
    "print(\"Enter num one\")\n",
    "small = input()\n",
    "\n",
    "print(\"Enter num two\")\n",
    "smaller =input()\n",
    "\n",
    "print(\"Enter num three\")\n",
    "smallest =input()\n",
    "\n",
    "picker = three_picker(small,smaller,smallest)\n",
    "\n",
    "print(picker)"
   ]
  },
  {
   "cell_type": "code",
   "execution_count": null,
   "id": "2c75eb1f",
   "metadata": {},
   "outputs": [],
   "source": []
  }
 ],
 "metadata": {
  "kernelspec": {
   "display_name": "Python 3 (ipykernel)",
   "language": "python",
   "name": "python3"
  },
  "language_info": {
   "codemirror_mode": {
    "name": "ipython",
    "version": 3
   },
   "file_extension": ".py",
   "mimetype": "text/x-python",
   "name": "python",
   "nbconvert_exporter": "python",
   "pygments_lexer": "ipython3",
   "version": "3.11.5"
  }
 },
 "nbformat": 4,
 "nbformat_minor": 5
}
