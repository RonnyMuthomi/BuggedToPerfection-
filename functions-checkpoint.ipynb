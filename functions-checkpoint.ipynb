{
 "cells": [
  {
   "cell_type": "code",
   "execution_count": 2,
   "id": "df7a0b1c",
   "metadata": {},
   "outputs": [
    {
     "name": "stdout",
     "output_type": "stream",
     "text": [
      "Hello jesse\n"
     ]
    }
   ],
   "source": [
    "def greet_user(greeting, username):\n",
    "    print(greeting, username)\n",
    "    \n",
    "greet_user('Hello', 'jesse')"
   ]
  },
  {
   "cell_type": "code",
   "execution_count": 3,
   "id": "bb0b3a23",
   "metadata": {},
   "outputs": [
    {
     "name": "stdout",
     "output_type": "stream",
     "text": [
      "Hello guys I am learning about functions\n"
     ]
    }
   ],
   "source": [
    "def display_message():\n",
    "    print('Hello guys I am learning about functions')\n",
    "    \n",
    "display_message()\n",
    "    "
   ]
  },
  {
   "cell_type": "code",
   "execution_count": 8,
   "id": "91d1b1a8",
   "metadata": {},
   "outputs": [
    {
     "name": "stdout",
     "output_type": "stream",
     "text": [
      "one of my favorite book is Alice in wonderland\n"
     ]
    }
   ],
   "source": [
    "def favorite_book(title):\n",
    "    print(f\"one of my favorite book is {title}\")\n",
    "favorite_book('Alice in wonderland')"
   ]
  },
  {
   "cell_type": "code",
   "execution_count": 4,
   "id": "549e34f5",
   "metadata": {},
   "outputs": [
    {
     "name": "stdout",
     "output_type": "stream",
     "text": [
      "artist nameAkon\n",
      "album nameAkon best\n"
     ]
    },
    {
     "ename": "NameError",
     "evalue": "name 'album_name' is not defined",
     "output_type": "error",
     "traceback": [
      "\u001b[1;31m---------------------------------------------------------------------------\u001b[0m",
      "\u001b[1;31mNameError\u001b[0m                                 Traceback (most recent call last)",
      "Cell \u001b[1;32mIn[4], line 8\u001b[0m\n\u001b[0;32m      5\u001b[0m art_name \u001b[38;5;241m=\u001b[39m \u001b[38;5;28minput\u001b[39m(\u001b[38;5;124m\"\u001b[39m\u001b[38;5;124martist name\u001b[39m\u001b[38;5;124m\"\u001b[39m)\n\u001b[0;32m      6\u001b[0m albumName1 \u001b[38;5;241m=\u001b[39m \u001b[38;5;28minput\u001b[39m(\u001b[38;5;124m\"\u001b[39m\u001b[38;5;124malbum name\u001b[39m\u001b[38;5;124m\"\u001b[39m)\n\u001b[1;32m----> 8\u001b[0m musician \u001b[38;5;241m=\u001b[39m make_album(art_name, albumName1)\n\u001b[0;32m     10\u001b[0m \u001b[38;5;28mprint\u001b[39m(\u001b[38;5;124mf\u001b[39m\u001b[38;5;124m\"\u001b[39m\u001b[38;5;130;01m\\n\u001b[39;00m\u001b[38;5;124mEpson Edition represents best artist of the year\u001b[39m\u001b[38;5;124m\"\u001b[39m, {musician})\n",
      "Cell \u001b[1;32mIn[4], line 2\u001b[0m, in \u001b[0;36mmake_album\u001b[1;34m(artist_name, album_title)\u001b[0m\n\u001b[0;32m      1\u001b[0m \u001b[38;5;28;01mdef\u001b[39;00m \u001b[38;5;21mmake_album\u001b[39m(artist_name, album_title):\n\u001b[1;32m----> 2\u001b[0m     song_album \u001b[38;5;241m=\u001b[39m{\u001b[38;5;124m'\u001b[39m\u001b[38;5;124mname\u001b[39m\u001b[38;5;124m'\u001b[39m: artist_name, \u001b[38;5;124m'\u001b[39m\u001b[38;5;124malbum\u001b[39m\u001b[38;5;124m'\u001b[39m: album_name}\n\u001b[0;32m      3\u001b[0m     \u001b[38;5;28;01mreturn\u001b[39;00m song_album\n",
      "\u001b[1;31mNameError\u001b[0m: name 'album_name' is not defined"
     ]
    }
   ],
   "source": [
    "def make_album(artist_name, album_title):\n",
    "    song_album ={'name': artist_name, 'album': album_name}\n",
    "    return song_album\n",
    "\n",
    "art_name = input(\"artist name\")\n",
    "albumName1 = input(\"album name\")\n",
    "\n",
    "musician = make_album(art_name, albumName1)\n",
    "\n",
    "print(f\"\\nEpson Edition represents best artist of the year\", {musician})"
   ]
  },
  {
   "cell_type": "code",
   "execution_count": null,
   "id": "c138d301",
   "metadata": {},
   "outputs": [],
   "source": []
  }
 ],
 "metadata": {
  "kernelspec": {
   "display_name": "Python 3 (ipykernel)",
   "language": "python",
   "name": "python3"
  },
  "language_info": {
   "codemirror_mode": {
    "name": "ipython",
    "version": 3
   },
   "file_extension": ".py",
   "mimetype": "text/x-python",
   "name": "python",
   "nbconvert_exporter": "python",
   "pygments_lexer": "ipython3",
   "version": "3.11.5"
  }
 },
 "nbformat": 4,
 "nbformat_minor": 5
}
