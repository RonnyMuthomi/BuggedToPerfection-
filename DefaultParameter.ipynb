{
 "cells": [
  {
   "cell_type": "code",
   "execution_count": null,
   "id": "edc03b54",
   "metadata": {},
   "outputs": [],
   "source": [
    "def make_album(artist_name, album_title, num_songs=None):\n",
    "    artist = {'person': artist_name, 'album': album_title}\n",
    "    if num_songs:\n",
    "        artist['num_songs'] = num_songs\n",
    "    return artist\n",
    "\n",
    "while True:\n",
    "    print(\"Enter artist name (or 'q' to quit):\")\n",
    "    gee = input()\n",
    "    \n",
    "    if gee.lower() == 'q':  # Check if the user wants to quit\n",
    "        break\n",
    "    \n",
    "    print('Enter album title:')\n",
    "    alb = input()\n",
    "    \n",
    "    musician = make_album(gee, alb)\n",
    "    print(musician)  # Print the dictionary\n",
    "    \n",
    "    print(\"Do you want to add another album? (yes/no):\")\n",
    "    another = input()\n",
    "    \n",
    "    if another.lower() != 'yes':  # Check if the user wants to stop\n",
    "        break\n",
    "   \n",
    "            "
   ]
  },
  {
   "cell_type": "code",
   "execution_count": 19,
   "id": "ecbf85fa",
   "metadata": {},
   "outputs": [
    {
     "name": "stdout",
     "output_type": "stream",
     "text": [
      "Enter num_one\n",
      "5\n",
      "Enter num_two\n",
      "3\n",
      "5\n"
     ]
    }
   ],
   "source": [
    "def numbers(num_one, num_two):\n",
    "    \n",
    "    if num_one > num_two:\n",
    "        return num_one\n",
    "    elif num_one == num_two:\n",
    "        return \"Equal\"\n",
    "    else:\n",
    "        return num_two\n",
    "    \n",
    "print(\"Enter num_one\")\n",
    "    \n",
    "num1 = int(input()) \n",
    "    \n",
    "print(\"Enter num_two\")\n",
    "    \n",
    "num2 =  int(input())\n",
    "    \n",
    "all_nums =numbers(num1, num2)\n",
    "    \n",
    "print(all_nums)\n",
    "    \n",
    "     "
   ]
  },
  {
   "cell_type": "code",
   "execution_count": null,
   "id": "36c2663f",
   "metadata": {},
   "outputs": [],
   "source": []
  }
 ],
 "metadata": {
  "kernelspec": {
   "display_name": "Python 3 (ipykernel)",
   "language": "python",
   "name": "python3"
  },
  "language_info": {
   "codemirror_mode": {
    "name": "ipython",
    "version": 3
   },
   "file_extension": ".py",
   "mimetype": "text/x-python",
   "name": "python",
   "nbconvert_exporter": "python",
   "pygments_lexer": "ipython3",
   "version": "3.11.5"
  }
 },
 "nbformat": 4,
 "nbformat_minor": 5
}
