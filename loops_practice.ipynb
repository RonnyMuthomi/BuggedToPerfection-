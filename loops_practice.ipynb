{
 "cells": [
  {
   "cell_type": "code",
   "execution_count": 8,
   "id": "bf6571c5",
   "metadata": {},
   "outputs": [
    {
     "name": "stdout",
     "output_type": "stream",
     "text": [
      "Enter the numbers\n",
      "1 2 3 4 56 \n",
      "62\n"
     ]
    }
   ],
   "source": [
    "def loop_numbes(num):\n",
    "    all_lists =0\n",
    "    \n",
    "    for x in num:\n",
    "        if x %2 ==0:\n",
    "            all_lists +=x\n",
    "    return all_lists\n",
    "\n",
    "print(\"Enter the numbers\")\n",
    "\n",
    "user_input =input()\n",
    "\n",
    "input_user =list(map(int, user_input.split()))\n",
    "\n",
    "call = loop_numbes(input_user)\n",
    "\n",
    "print(call)"
   ]
  },
  {
   "cell_type": "code",
   "execution_count": 9,
   "id": "7496a908",
   "metadata": {},
   "outputs": [
    {
     "data": {
      "text/plain": [
       "'a'"
      ]
     },
     "execution_count": 9,
     "metadata": {},
     "output_type": "execute_result"
    }
   ],
   "source": [
    "def mid(string):\n",
    "    if len(string) % 2 == 0:\n",
    "        return \"\"\n",
    "    else:\n",
    "        offset = int(len(string) / 2)\n",
    "        return string[offset: offset + 1]\n",
    "\n",
    "mid(\"abc\")\n",
    "mid(\"asaba\")"
   ]
  },
  {
   "cell_type": "code",
   "execution_count": 11,
   "id": "83047c64",
   "metadata": {},
   "outputs": [
    {
     "data": {
      "text/plain": [
       "'a'"
      ]
     },
     "execution_count": 11,
     "metadata": {},
     "output_type": "execute_result"
    }
   ],
   "source": [
    "def mid(void_1):\n",
    "    if len(void_1) %2 ==0:\n",
    "        return \"\"\n",
    "    \n",
    "    else:\n",
    "        try_2 = int(len(void_1) /2)\n",
    "    return void_1[try_2]\n",
    "\n",
    "mid(\"dad\")"
   ]
  },
  {
   "cell_type": "code",
   "execution_count": 16,
   "id": "39facd6f",
   "metadata": {},
   "outputs": [
    {
     "name": "stdout",
     "output_type": "stream",
     "text": [
      "Enter the numbers\n",
      "1 2 2 3 4 5\n",
      "[1, 2, 2, 3, 4, 5]\n"
     ]
    }
   ],
   "source": [
    "def interger_list(num):\n",
    "    total =0 \n",
    "    \n",
    "    if num ==total:\n",
    "        total.remove()\n",
    "        \n",
    "    thislist =num\n",
    "    \n",
    "    return thislist\n",
    "\n",
    "print(\"Enter the numbers\")\n",
    "user_input = input()\n",
    "\n",
    "input_user = list(map(int, user_input.split()))\n",
    "\n",
    "call = interger_list(input_user)\n",
    "\n",
    "print(call)"
   ]
  },
  {
   "cell_type": "code",
   "execution_count": null,
   "id": "2926b824",
   "metadata": {},
   "outputs": [],
   "source": []
  },
  {
   "cell_type": "code",
   "execution_count": null,
   "id": "941caf36",
   "metadata": {},
   "outputs": [],
   "source": []
  },
  {
   "cell_type": "code",
   "execution_count": null,
   "id": "650cfda2",
   "metadata": {},
   "outputs": [],
   "source": []
  }
 ],
 "metadata": {
  "kernelspec": {
   "display_name": "Python 3 (ipykernel)",
   "language": "python",
   "name": "python3"
  },
  "language_info": {
   "codemirror_mode": {
    "name": "ipython",
    "version": 3
   },
   "file_extension": ".py",
   "mimetype": "text/x-python",
   "name": "python",
   "nbconvert_exporter": "python",
   "pygments_lexer": "ipython3",
   "version": "3.11.5"
  }
 },
 "nbformat": 4,
 "nbformat_minor": 5
}
